{
 "cells": [
  {
   "cell_type": "code",
   "execution_count": 1,
   "id": "c2b98ed4-8f90-4a49-832c-80e3991dbb91",
   "metadata": {
    "editable": true,
    "id": "d99247a7-5202-4571-8237-b8d50062652c",
    "slideshow": {
     "slide_type": ""
    },
    "tags": []
   },
   "outputs": [
    {
     "name": "stdout",
     "output_type": "stream",
     "text": [
      "hello world\n"
     ]
    }
   ],
   "source": [
    "print(\"hello world\")"
   ]
  },
  {
   "cell_type": "code",
   "execution_count": 2,
   "id": "ea639421-b420-4f15-a3cd-154fbc3bb853",
   "metadata": {
    "id": "b8d7b120-36c2-4b0f-9e95-9e502246f491"
   },
   "outputs": [
    {
     "data": {
      "text/html": [
       "<div>\n",
       "<style scoped>\n",
       "    .dataframe tbody tr th:only-of-type {\n",
       "        vertical-align: middle;\n",
       "    }\n",
       "\n",
       "    .dataframe tbody tr th {\n",
       "        vertical-align: top;\n",
       "    }\n",
       "\n",
       "    .dataframe thead th {\n",
       "        text-align: right;\n",
       "    }\n",
       "</style>\n",
       "<table border=\"1\" class=\"dataframe\">\n",
       "  <thead>\n",
       "    <tr style=\"text-align: right;\">\n",
       "      <th></th>\n",
       "      <th>ID</th>\n",
       "      <th>TRANSACTION_TYPE</th>\n",
       "      <th>DESCRIPTION</th>\n",
       "      <th>TRANSACTION_FEE</th>\n",
       "    </tr>\n",
       "  </thead>\n",
       "  <tbody>\n",
       "    <tr>\n",
       "      <th>0</th>\n",
       "      <td>TT03</td>\n",
       "      <td>Transfer</td>\n",
       "      <td>Transfer between accounts</td>\n",
       "      <td>1.00</td>\n",
       "    </tr>\n",
       "    <tr>\n",
       "      <th>1</th>\n",
       "      <td>TT04</td>\n",
       "      <td>Online Payment</td>\n",
       "      <td>Online bill or merchant payment</td>\n",
       "      <td>0.25</td>\n",
       "    </tr>\n",
       "    <tr>\n",
       "      <th>2</th>\n",
       "      <td>TT01</td>\n",
       "      <td>Deposit</td>\n",
       "      <td>Cash or check deposit</td>\n",
       "      <td>0.00</td>\n",
       "    </tr>\n",
       "    <tr>\n",
       "      <th>3</th>\n",
       "      <td>TT02</td>\n",
       "      <td>Withdrawal</td>\n",
       "      <td>ATM or teller withdrawal</td>\n",
       "      <td>0.50</td>\n",
       "    </tr>\n",
       "  </tbody>\n",
       "</table>\n",
       "</div>"
      ],
      "text/plain": [
       "     ID TRANSACTION_TYPE                      DESCRIPTION TRANSACTION_FEE\n",
       "0  TT03         Transfer        Transfer between accounts            1.00\n",
       "1  TT04   Online Payment  Online bill or merchant payment            0.25\n",
       "2  TT01          Deposit            Cash or check deposit            0.00\n",
       "3  TT02       Withdrawal         ATM or teller withdrawal            0.50"
      ]
     },
     "execution_count": 2,
     "metadata": {},
     "output_type": "execute_result"
    }
   ],
   "source": [
    "\n",
    "import itc_utils.flight_service as itcfs\n",
    "\n",
    "# NOTE:\n",
    "#  A limit of 5000 rows has been applied to the request to enable sample previewing.\n",
    "#  Edit or comment-out row_limit to change or disable the row limit.\n",
    "#\n",
    "nb_data_request = {\n",
    "    'connection_name': \"\"\"WHConnection\"\"\",\n",
    "    'interaction_properties': {\n",
    "        'row_limit': 5000,\n",
    "        'schema_name': 'WHTESTUSR',\n",
    "        'table_name': 'TRANSACTION_TYPES'\n",
    "    }\n",
    "}\n",
    "flight_descriptor = itcfs.get_flight_descriptor(nb_data_request=nb_data_request)\n",
    "\n",
    "flightClient = itcfs.get_flight_client()\n",
    "flightInfo = flightClient.get_flight_info(flight_descriptor)\n",
    "\n",
    "df_0 = itcfs.read_pandas_and_concat(flightClient, flightInfo, timeout=240)\n",
    "df_0.head(10)\n"
   ]
  },
  {
   "cell_type": "code",
   "execution_count": null,
   "id": "fefcb172-ddae-468c-9a9e-dee7c4b0bc5f",
   "metadata": {
    "id": "fefcb172-ddae-468c-9a9e-dee7c4b0bc5f"
   },
   "outputs": [],
   "source": []
  }
 ],
 "metadata": {
  "kernelspec": {
   "display_name": "Python 3.11 with Spark",
   "language": "python3",
   "name": "python311"
  },
  "language_info": {
   "name": ""
  }
 },
 "nbformat": 4,
 "nbformat_minor": 5
}
